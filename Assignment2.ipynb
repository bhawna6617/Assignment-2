{
 "cells": [
  {
   "cell_type": "markdown",
   "id": "9578f91d",
   "metadata": {},
   "source": [
    "# question 1"
   ]
  },
  {
   "cell_type": "code",
   "execution_count": 1,
   "id": "198353c5",
   "metadata": {},
   "outputs": [],
   "source": [
    "#Comments in Python are identified with a hash symbol, #, and extend to the end of the line. Hash characters in a string are not considered comments, however. There are three ways to write a comment - as a separate line, beside the corresponding statement of code, or as a multi-line comment block.\n",
    "\n"
   ]
  },
  {
   "cell_type": "markdown",
   "id": "dfba31fb",
   "metadata": {},
   "source": [
    "# question 2"
   ]
  },
  {
   "cell_type": "code",
   "execution_count": 3,
   "id": "80b20749",
   "metadata": {},
   "outputs": [],
   "source": [
    "# In Python, variables need not be declared or defined in advance, as is the case in many other programming languages. To create a variable, you just assign it a value and then start using it."
   ]
  },
  {
   "cell_type": "code",
   "execution_count": 4,
   "id": "d88d064f",
   "metadata": {},
   "outputs": [],
   "source": [
    "n = 300  #declare in pyhton and assign value beacuse in python don't need to declare any variable in advance"
   ]
  },
  {
   "cell_type": "markdown",
   "id": "c53fa65f",
   "metadata": {},
   "source": [
    "# question 3"
   ]
  },
  {
   "cell_type": "code",
   "execution_count": 8,
   "id": "c0625663",
   "metadata": {},
   "outputs": [
    {
     "name": "stdout",
     "output_type": "stream",
     "text": [
      "<class 'float'>\n",
      "<class 'int'>\n",
      "12\n"
     ]
    }
   ],
   "source": [
    "a=12.3\n",
    "print(type(a))\n",
    "b=int(a)\n",
    "print(type(b))\n",
    "print(b)\n"
   ]
  },
  {
   "cell_type": "markdown",
   "id": "ce2f2204",
   "metadata": {},
   "source": [
    "# question 4"
   ]
  },
  {
   "cell_type": "code",
   "execution_count": 9,
   "id": "adabf9be",
   "metadata": {},
   "outputs": [],
   "source": [
    "#The most basic and easy way to run a Python script is by using the python command. You need to open a command line and type the word python followed by the path to your script file like this: python first_script.py Hello World! Then you hit the ENTER button from the keyboard, and that's it."
   ]
  },
  {
   "cell_type": "code",
   "execution_count": 10,
   "id": "e342297b",
   "metadata": {},
   "outputs": [],
   "source": [
    "# first we open the desire directory and open the command line in that folder after we will write the code "
   ]
  },
  {
   "cell_type": "code",
   "execution_count": 11,
   "id": "3941c549",
   "metadata": {},
   "outputs": [],
   "source": [
    "# python <file_name>"
   ]
  },
  {
   "cell_type": "markdown",
   "id": "14565a85",
   "metadata": {},
   "source": [
    "# question 5"
   ]
  },
  {
   "cell_type": "code",
   "execution_count": 18,
   "id": "5e37406c",
   "metadata": {
    "scrolled": true
   },
   "outputs": [
    {
     "name": "stdout",
     "output_type": "stream",
     "text": [
      "[2, 3]\n"
     ]
    }
   ],
   "source": [
    "my_list=[1,2,3,4,5]\n",
    "sub = my_list[1:3]\n",
    "print(sub)"
   ]
  },
  {
   "cell_type": "markdown",
   "id": "2c9a220a",
   "metadata": {},
   "source": [
    "# question 6"
   ]
  },
  {
   "cell_type": "code",
   "execution_count": 21,
   "id": "2bc75a91",
   "metadata": {},
   "outputs": [],
   "source": [
    "# Complex numbers are created from two real numbers. You can create it directly or you can use the complex function. It is written in the form of (x + yj) where x and y are real numbers and j is an imaginary number which is the square root of -1."
   ]
  },
  {
   "cell_type": "code",
   "execution_count": 22,
   "id": "bacf1f93",
   "metadata": {},
   "outputs": [],
   "source": [
    "x=2+6j"
   ]
  },
  {
   "cell_type": "code",
   "execution_count": 23,
   "id": "00ca4a12",
   "metadata": {},
   "outputs": [
    {
     "data": {
      "text/plain": [
       "complex"
      ]
     },
     "execution_count": 23,
     "metadata": {},
     "output_type": "execute_result"
    }
   ],
   "source": [
    "type(x)"
   ]
  },
  {
   "cell_type": "markdown",
   "id": "546cab2e",
   "metadata": {},
   "source": [
    "# question 7\n"
   ]
  },
  {
   "cell_type": "code",
   "execution_count": 24,
   "id": "276e7f68",
   "metadata": {},
   "outputs": [],
   "source": [
    "age=25\n"
   ]
  },
  {
   "cell_type": "markdown",
   "id": "a76033c1",
   "metadata": {},
   "source": [
    "# question 8"
   ]
  },
  {
   "cell_type": "code",
   "execution_count": 25,
   "id": "5c67b878",
   "metadata": {},
   "outputs": [
    {
     "name": "stdout",
     "output_type": "stream",
     "text": [
      "<class 'float'>\n"
     ]
    }
   ],
   "source": [
    "price=9.99\n",
    "print(type(price))"
   ]
  },
  {
   "cell_type": "markdown",
   "id": "4435cca0",
   "metadata": {},
   "source": [
    "# question 9 "
   ]
  },
  {
   "cell_type": "code",
   "execution_count": 26,
   "id": "0f60ed83",
   "metadata": {},
   "outputs": [
    {
     "name": "stdout",
     "output_type": "stream",
     "text": [
      "nandua_attri\n"
     ]
    }
   ],
   "source": [
    "name=\"nandua_attri\"\n",
    "print(name)"
   ]
  },
  {
   "cell_type": "markdown",
   "id": "8e00acd0",
   "metadata": {},
   "source": [
    "# question 10"
   ]
  },
  {
   "cell_type": "code",
   "execution_count": 30,
   "id": "70fe3e68",
   "metadata": {},
   "outputs": [
    {
     "name": "stdout",
     "output_type": "stream",
     "text": [
      "world\n"
     ]
    }
   ],
   "source": [
    "x=\"hello,world\"\n",
    "a = slice(6,11)\n",
    "print(x[a])\n"
   ]
  },
  {
   "cell_type": "markdown",
   "id": "823fb41d",
   "metadata": {},
   "source": [
    "# question 11"
   ]
  },
  {
   "cell_type": "code",
   "execution_count": 31,
   "id": "9d09b54f",
   "metadata": {},
   "outputs": [],
   "source": [
    "is_student = True"
   ]
  },
  {
   "cell_type": "code",
   "execution_count": 32,
   "id": "00012fdf",
   "metadata": {},
   "outputs": [
    {
     "name": "stdout",
     "output_type": "stream",
     "text": [
      "You are a student\n"
     ]
    }
   ],
   "source": [
    "if (is_student):\n",
    "    print(\"You are a student\")\n",
    "else:\n",
    "    print(\"You are not a student\")"
   ]
  },
  {
   "cell_type": "code",
   "execution_count": null,
   "id": "42fd6693",
   "metadata": {},
   "outputs": [],
   "source": []
  }
 ],
 "metadata": {
  "kernelspec": {
   "display_name": "Python 3 (ipykernel)",
   "language": "python",
   "name": "python3"
  },
  "language_info": {
   "codemirror_mode": {
    "name": "ipython",
    "version": 3
   },
   "file_extension": ".py",
   "mimetype": "text/x-python",
   "name": "python",
   "nbconvert_exporter": "python",
   "pygments_lexer": "ipython3",
   "version": "3.11.1"
  }
 },
 "nbformat": 4,
 "nbformat_minor": 5
}
